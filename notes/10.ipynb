{
 "cells": [
  {
   "cell_type": "markdown",
   "metadata": {},
   "source": [
    "* Machine learning deals with unstructured data (and implicit representations), gradient-based methods, statistical learning theory only holds i.i.d\n",
    "* Causal inference requires structured input data (and causal variables), current methods struggle in high-dimensions, causal models allow reasoning out of distribution\n",
    "\n",
    "Causal representation learning proposes to learn variables which allow for causal reasoning, from unstructured observations\n",
    "\n",
    "Problem setting:\n",
    "\n",
    "Unobserved:\n",
    "* Ground truth variables: $Z \\sim P = \\Pi_i P(Z_i | Z_{P_{a_i}})$\n",
    "* Causal mechanisms: $Z_i := f_i(Z_{PA_i}, \\eta_i)$\n",
    "* Mixing function: $g : Z \\to X$ injective\n",
    "\n",
    "Observed:\n",
    "* Observed variables $X$\n",
    "* Environments: $e$ s.t. $X^e = g(Z^e)$"
   ]
  }
 ],
 "metadata": {
  "language_info": {
   "name": "python"
  }
 },
 "nbformat": 4,
 "nbformat_minor": 2
}
