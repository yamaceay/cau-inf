{
 "cells": [
  {
   "cell_type": "markdown",
   "metadata": {},
   "source": [
    "Causal discovery:\n",
    "* Learn qualitative causal relationships between variables.\n",
    "* Allows to answer: Does an intervention on X have an effect on Y?\n",
    "\n",
    "Causal effect identification:\n",
    "* Quantify causal relationships between variables\n",
    "* Allows to answer: How strong of an effect does an intervention on X have on Y?\n",
    "\n",
    "The causal effect of X on Y is $\\frac{\\partial}{\\partial x} \\Bbb{E}[Y | do(X = x)]$\n",
    "\n",
    "Identification problem: Determine the causal effect of X on Y or, more generally, the interventional distribution $p(y | do(x))$ from the observational distribution $p(y | x)$ and knowledge of the causal graph $G$."
   ]
  },
  {
   "cell_type": "markdown",
   "metadata": {},
   "source": [
    "Interventions in SCMs:\n",
    "* An atomic intervention on $X_j$ denoted as $do(X_j = x_{j0})$ sets the value of $X_j$ to $x_{j0}$ and removes all incoming edges to $X_j$.\n",
    "\n",
    "$p_{\\cal C}(x) = \\Pi_{X_i \\in X} p(x_i | pa_i)$\n",
    "\n",
    "$p_{\\cal C_{do(X_j = x_{j0})}}(x) = \\delta (x_j - x_{j0})\\Pi_{X_i \\in X \\backslash \\{X_j\\}} p(x_i | pa_i)$"
   ]
  },
  {
   "cell_type": "markdown",
   "metadata": {},
   "source": [
    "Linear SCMs:\n",
    "\n",
    "$X_i = \\sum_{X_j \\in pa_i} \\beta_{ij} X_j + \\epsilon_i$\n",
    "\n",
    "Causal effects in linear models:\n",
    "\n",
    "$\\frac{\\partial}{\\partial x} \\Bbb{E}[Y | do(X = x)] = \\Bbb{E}[Y | do(X = x_0 + 1)] - \\Bbb{E}[Y | do(X = x_0)] = \\Bbb{E}[Y | do(X = 1)] - \\Bbb{E}[Y | do(X = 0)]$\n",
    "\n",
    "since the variables are affine transformations of x\n",
    "\n",
    "Simplification:\n",
    "\n",
    "* All noise variables have mean zero\n",
    "* The red numbers at the vertices denote their expected values"
   ]
  },
  {
   "cell_type": "markdown",
   "metadata": {},
   "source": [
    "Path tracing for causal effects in linear models:\n",
    "\n",
    "* Sum the contribution of all directed paths from X to Y\n",
    "* where each such path contributes the product of structural coefficients along the path\n",
    "\n",
    "Non-zero means of nosie variables cancel out in the difference: $\\Bbb{E}[Y | do(X = 1)] - \\Bbb{E}[Y | do(X = 0)]$"
   ]
  },
  {
   "cell_type": "markdown",
   "metadata": {},
   "source": [
    "Case 1: No confounding\n",
    "\n",
    "Given:\n",
    "* $Z := \\eta_Z, \\eta_Z \\sim N(0, \\sigma_Z^2)$\n",
    "* $X := \\eta_X, \\eta_X \\sim N(0, \\sigma_X^2)$\n",
    "* $Y := a X + b Z + \\eta_Y, \\eta_Y \\sim N(0, \\sigma_Y^2)$\n",
    "\n",
    "Causal effect of X on Y: \n",
    "* $\\frac{\\partial}{\\partial x} \\Bbb{E}[Y | do(X = x)] = a$\n",
    "* Express $a$ in terms of the observational distribution\n",
    "* Idea: Use covariance of X and Y: \n",
    "    * $\\text{cov}(Y, X) = \\text{cov}(a \\eta_X + b \\eta_Z + \\eta_Y, \\eta_X) = a\\text{cov}(\\eta_X, \\eta_X) + b \\text{cov}(\\eta_Z, \\eta_X) + \\text{cov}(\\eta_Y, \\eta_Z) = a \\text{var}(X) + b 0 + 0 = a \\text{var}(X)$\n",
    "    * Then $a = \\frac{\\text{cov}(Y, X)}{\\text{var}(X)} = \\rho(Y, X) \\sqrt{\\frac{\\text{var}(Y)}{\\text{var}(X)}}$\n",
    "    * a is the coefficient of X in the linear regression of Y on X\n"
   ]
  },
  {
   "cell_type": "markdown",
   "metadata": {},
   "source": [
    "Case 2: Observed confounding\n",
    "\n",
    "Given:\n",
    "* $Z := \\eta_Z, \\eta_Z \\sim N(0, \\sigma_Z^2)$\n",
    "* $X := c Z + \\eta_X, \\eta_X \\sim N(0, \\sigma_X^2)$\n",
    "* $Y := a X + b Z + \\eta_Y, \\eta_Y \\sim N(0, \\sigma_Y^2)$\n",
    "\n",
    "Goal:\n",
    "* We know that causal effect of X on Y is $\\frac{\\partial}{\\partial x} \\Bbb{E}[Y | do(X = x)] = a$\n",
    "* Express this number a in terms of the observational distribution:\n",
    "    * (Try to) Linearly regress of Y on X: \n",
    "        * $\\text{cov}(Y, X) = \\text{cov}((a c + b) \\eta_Z + a \\eta_X + \\eta_Y, c \\eta_Z + \\eta_X) = c(ac + b) \\text{cov}(\\eta_Z, \\eta_Z) + a \\text{cov}(\\eta_X, \\eta_X)$\n",
    "        * $\\text{var}(X) = c^2 \\text{cov}(\\eta_Z, \\eta_Z) + \\text{cov}(\\eta_X, \\eta_X)$ \n",
    "        * $\\implies a \\ne \\frac{\\text{cov}(Y, X)}{\\text{var}(X)}$ \n",
    "    * (Try to) Regress out influence of Z on X and Y to obtain residuals $\\Delta X$ and $\\Delta Y$ and linearly regress $\\Delta Y$ on $\\Delta X$:\n",
    "        * $\\Delta X = X - \\frac{\\text{cov}(X, Z)}{\\text{var}(Z)} Z = X - \\frac{c\\text{cov}(\\eta_Z, \\eta_Z)}{\\text{cov}(\\eta_Z, \\eta_Z)} Z = X - c Z = \\eta_X$\n",
    "        * $\\Delta Y = Y - \\frac{\\text{cov}(Y, Z)}{\\text{var}(Z)} Z = Y - \\frac{(ac + b)\\text{cov}(\\eta_Z, \\eta_Z)}{\\text{cov}(\\eta_Z, \\eta_Z)} Z = Y - (ac + b) Z = a \\eta_X + \\eta_Y$\n",
    "        * $\\implies a = \\frac{\\text{cov}(\\Delta Y, \\Delta X)}{\\text{var}(\\Delta X)} = \\frac{a \\text{cov}(\\eta_X, \\eta_X)}{\\text{cov}(\\eta_X, \\eta_X)} = a$\n",
    "\n",
    "    * Equivalent approach: Regress Y on X and Z, then take the regression coefficient in front of X.\n",
    "        * Adjustment set $Z = \\{Z\\}$ deconfounds the causal relationship of X and Y\n",
    "        * Question: For more complicated graphs, which set of covariates Z can serve as an adjustment set? "
   ]
  },
  {
   "cell_type": "markdown",
   "metadata": {},
   "source": [
    "Adjustment: A set of variables Z with $Z \\cap \\{X, Y\\} = \\{\\}$ is an adjustment set for the causal effect of X on Y if it blocks all backdoor paths from X to Y.\n",
    "\n",
    "Also: $p(y | do(x)) = \\begin{cases} p(y | x) & Z = \\{\\} \\\\ \\int p(y | x, z) p(z) dz & \\text{else} \\end{cases}$"
   ]
  },
  {
   "cell_type": "markdown",
   "metadata": {},
   "source": [
    "Let Z be an adjustment set for $(X, Y)$, then:\n",
    "\n",
    "* $\\frac{\\partial }{\\partial x} \\Bbb{E}[Y | do(X = x)] \\\\ = \\frac{\\partial }{\\partial x} \\int y p(y | do(x)) dy \\\\ = \\frac{\\partial }{\\partial x} \\int y \\int p(y | x, z) p(z) dz dy \\\\ = \\int p(z) \\frac{\\partial }{\\partial x} \\int y p(y | x, z) dy dz \\\\ = \\int p(z) \\frac{\\partial }{\\partial x} \\Bbb{E}[Y | X = x, Z = z] dz \\\\ = \\int p(z) \\frac{\\partial }{\\partial x} (a x + b z + c) dz \\\\ = a = \\frac{\\partial }{\\partial x} \\Bbb{E}[Y | X = x, Z = z] \\\\ (= \\Bbb{E}_Z \\{ \\frac{\\partial }{\\partial x} \\Bbb{E}[Y | X = x, Z = z] \\})$\n",
    "\n",
    "* The causal effect of X and Y is the coefficient in the multivariate linear regression of Y on X and Z\n",
    "* Now causal effect depends on $x$ \n",
    "    * $\\implies$ evaluate for different x, e.g. average treatment effect $\\Bbb{E}[Y | do(X = x)] - \\Bbb{E}[Y | do(X = x')]$ \n",
    "    * $\\implies$ fit an appropriate model"
   ]
  },
  {
   "cell_type": "markdown",
   "metadata": {},
   "source": [
    "Adjustment for direct causes:\n",
    "\n",
    "Let $\\cal G$ be a causal Bayesian network for p. Then the parents $PA_x$ of $X$ (as determined by $\\cal G$) are an adjustment set for $(X, Y)$: $p(y | do(x)) = \\int p(y | x, pa_X) p(pa_X) d pa_X$\n",
    "\n",
    "Interpretation:\n",
    "* The values $pa_X$ of the parents $PA_X$ of X determine subpopulations\n",
    "* In each subpopulation the causal effect agrees with the observed association\n",
    "* The causal effect is the average of the causal effects in the subpopulations\n",
    "\n",
    "Significance:\n",
    "* When we observe $X, Y$ and $PA_X$ we can calculate $p(y | do(x))$ and hence the causal effect of $X$ on $Y$.\n",
    "\n",
    "Derivation: \n",
    "* Let $W$ be all variables expect $X, Y, PA_X$. Starting from the definition of interventional distributions we get:\n",
    "* $p(x, y, pa_X, w | do(x_0)) \\\\ = \\frac{p(x, y, pa_X, w)}{p(x | pa_X)} \\delta(x - x_0) \\\\ = \\frac{p(x, y, pa_X, w)}{p(x, pa_X)} p(pa_X) \\delta(x - x_0) \\\\ = p(y, w | x, pa_X) p(pa_X) \\delta(x - x_0)$ \n",
    "* Integrate over $x$ to get $p(y, pa_X, w | do(x_0)) = \\int p(y, w | x, pa_X) p(pa_X) \\delta (x - x_0) dx = p(y, w | x_0, pa_X) p(pa_X)$\n",
    "* Integrate over $w$ to get: $p(y, pa_X | do(x_0)) = \\int p(y, w | x_0, pa_X) p(pa_X) dw = p(y | x_0, pa_X) p(pa_X)$\n",
    "* Integrate over $pa_X$ to get: $p(y | do(x_0)) = \\int p(y | x_0, pa_X) p(pa_X) d pa_X$"
   ]
  },
  {
   "cell_type": "markdown",
   "metadata": {},
   "source": [
    "Backdoor-adjustment:\n",
    "\n",
    "The adjustment for direct causes of X is a special case of a more general approach known as back-door adjustment\n",
    "\n",
    "Relevance: We might not observe all $PA_X$. Even if we do, there might be a smaller and / or more efficient adjustment set.\n",
    "\n",
    "Backdoor paths: A back-door path relative to the ordered pair (X, Y) is a path $X \\to_n Y$\n",
    "\n",
    "Backdoor criterion: A set of variables $Z \\subset X \\backslash \\{X, Y\\}$ satisfies the back-door criterion relative to an ordered pair $(X, Y)$ if:\n",
    "1. Z blocks all back-door paths from X to Y\n",
    "2. Z contains no descendant of X\n",
    "\n",
    "Let $\\cal G$ be a causal Bayesian network for p and let $Z$ be a set of variables that satisfies the back-door criterion relative to $(X, Y)$. Then $Z$ is an adjustment set for $(X, Y)$: \n",
    "* $p(y | do(x)) = \\int p(y | x, z) p(z) dz$"
   ]
  },
  {
   "cell_type": "markdown",
   "metadata": {},
   "source": [
    "Lemma: The parents $PA_X$ satisfy the backdoor criterion relative to $(X, Y)$. Hence, adjustment for direct causes is a special case of backdoor adjustment.\n",
    "\n",
    "* Backdoor adjustment does not cover all adjustment sets: There are cases in which some adjustment sets do not fulfill the backdoor criterion."
   ]
  },
  {
   "cell_type": "markdown",
   "metadata": {},
   "source": [
    "Forbidden set and non-causal paths:\n",
    "\n",
    "1. The set $M(X \\to Y)$ is the set of all variables other than $X, Y$ that are on a directed path from X to Y.\n",
    "2. A path between X and Y is called directed or causal from X to Y if all edges are directed towards Y, else it is called non-causal.\n",
    "3. The forbidden set $forb(X \\to Y)$ is the set of all variables that are either $X$ or are a descendant of any node in $Y \\cup M(X \\to Y)$."
   ]
  },
  {
   "cell_type": "markdown",
   "metadata": {},
   "source": [
    "Generalized adjustment criterion:\n",
    "\n",
    "A set of variables $Z \\subset X \\backslash \\{X, Y\\}$ satisfies the generalized adjustment criterion relative to an ordered pair $(X, Y)$ if:\n",
    "1. Z blocks all non-causal paths between X and Y\n",
    "2. No element in $Z$ is in $forb(X \\to Y)$\n",
    "\n",
    "A set of variables $Z$ satisfies the generalized adjustment criterion relative to $(X, Y)$ if and only if it is an adjustment set for $(X, Y)$."
   ]
  },
  {
   "cell_type": "markdown",
   "metadata": {},
   "source": [
    "Condition 1: \n",
    "* Z blocks all non-causal paths between X and Y\n",
    "* Block non-causal dependencies introduced by general non-causal paths\n",
    "\n",
    "Condition 2a: \n",
    "* Z does not contain an element of $Y \\cup M(X \\to Y) \\subset forb(X \\to Y)$\n",
    "* Do not block causal dependencies\n",
    "\n",
    "Condition 2b:\n",
    "* Z does not contain an element of $forb(X \\to Y) \\backslash Y \\cup M(X \\to Y)$\n",
    "* Do not introduce collider bias"
   ]
  },
  {
   "cell_type": "markdown",
   "metadata": {},
   "source": [
    "Adjusting for pre-treatment covariates can do harm!"
   ]
  },
  {
   "cell_type": "markdown",
   "metadata": {},
   "source": [
    "Optimal adjustment sets in linear models\n",
    "\n",
    "Let $Z$ be an adjustment set for $(X, Y)$, then:\n",
    "* $\\tau_{X \\to Y} = \\frac{\\partial}{\\partial x}\\Bbb{E} [Y | do(X = x)] = \\frac{\\partial}{\\partial x} \\Bbb{E}[Y | x, z] \\implies \\hat{\\tau}_{X \\to Y}$ = Coefficient in front of x in regression of y on x and z\n",
    "\n",
    "Significance of the choice of Z:\n",
    "* Different adjustment sets Z can lead to estimators with $\\hat{\\tau}_{X \\to Y}$ with different variance.\n",
    "\n",
    "Optimal adjustment set, extension to hidden variable models: In linear models, there is a special adjustment set, the O-set O, which leads to an estimator with smallest asymptotic variance: \n",
    "* $O(X \\to Y) = pa(Y \\cup M(X \\to Y)) \\backslash forb(X \\to Y)$\n",
    "\n",
    "Variance of linear OLS estimator: $\\text{var}(\\hat{\\tau}_{X \\to Y}) = \\sqrt{\\frac{1}{n} \\frac{\\text{var}(Y | X, Z)}{\\text{var}(X | Z)}}$\n",
    "\n",
    "To minimize the variance, choose Z such that $\\text{var}(Y | X, Z)$ is small and $\\text{var}(X | Z)$ is large.\n",
    "\n",
    "Approach: Condition on 'close' causal ancestors of Y without blocking causal paths, try to avoid the same for X.\n"
   ]
  }
 ],
 "metadata": {
  "language_info": {
   "name": "python"
  }
 },
 "nbformat": 4,
 "nbformat_minor": 2
}
