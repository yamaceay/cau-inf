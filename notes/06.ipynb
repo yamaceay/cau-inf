{
 "cells": [
  {
   "cell_type": "markdown",
   "metadata": {},
   "source": [
    "Assumptions for causal inference\n",
    "\n",
    "* Causal Markov Condition\n",
    "* Faithfulness\n",
    "* No causal cycles\n",
    "* Causal Sufficiency\n",
    "* No selection bias\n",
    "* Time series:\n",
    "    * Time order\n",
    "    * Stationarity\n",
    "    * Instantaneous effects\n",
    "* Assumptions on dependency types (linearity etc) and distributions ( -> Structural Causal Models)\n",
    "* Causal approaches typically utilize a subset of these assumptions"
   ]
  },
  {
   "cell_type": "markdown",
   "metadata": {},
   "source": [
    "Selection bias\n",
    "\n",
    "* X = 0, 1 treatment in randomized trial\n",
    "* Y = 0, 1 patient recovery\n",
    "* Suppose there is no effect of X on Y\n",
    "* But X = 1 has unpleasant side-effects Z\n",
    "* Severity of Z is influenced by unobserved general health level L: the sicker, the worse\n",
    "* L is the only cause of patient recovery\n",
    "* Patients suffering too strong side-effects drop out of study (S = 0)\n",
    "* The data only contains patients that stayed in the study (S = 1 is conditioned on)\n",
    "* Now X and Y are correlated even though there is no effect and conditioning on side-effects doesn't help"
   ]
  },
  {
   "cell_type": "markdown",
   "metadata": {},
   "source": [
    "* DAGs assume no unobserved and selection variables, how to include these?\n",
    "* DAGs including unobserved variables would have infinite nodes, can either constrain graph and topology\n",
    "* ... or represent such relationships with ancestral graph models\n",
    "* For any DAG including latent and selection variables there is a unique maximal ancestral graph (MAG)\n",
    "* MAG over the observed variables alone represents the conditional independences relations entailed by the original DAG\n",
    "\n",
    "* Mixed graph has 3 kinds of edges: directed (->), bidirected (<->) and undirected (-)\n",
    "* Kinships: parent -> child, spouse <-> spouse, neighbor - neighbor\n",
    "* Directed cycle occurs when $X_i \\to X_j$ and $X_j$ is ancestor of $X_i$\n",
    "* Almost directed cycle occurs when $X_i \\leftrightarrow X_j$ and $X_j$ is ancestor of $X_i$\n",
    "* $X_k$ is collider if $X_i \\to X_k \\leftarrow X_j$\n",
    "\n",
    "* Ancestral graph is a mixed graph where\n",
    "    1. no directed cycle\n",
    "    2. no almost directed cycle\n",
    "    3. for any undirected edge $X_i - X_j$, $X_i$ and $X_j$ have no parents or spouses\n",
    "\n",
    "* A path p between $X_i$ and $X_j$ is active or m-connecting relative to (possibly empty) set Z (with $X_i, X_j \\notin Z$) iff\n",
    "    1. every non-collider on p is not a member of Z\n",
    "    2. every collider on p is in Z or has a descendant in Z\n",
    "* $X_i$ and $X_j$ are said to be m-separated by $Z$ if there is no active path between them\n",
    "* Ancestral garph is maximal if for any two non-adjacent vertices, there is a set of vertices that m-separates them\n",
    "* A path p between $X_i$ and $X_j$ on which every collider is an ancestor of $\\{X_i, X_j\\} \\cup S$ and every non-collider in $L$ is called an inducing path relative to $\\{L, S\\}$. Edges are trivially inducing paths."
   ]
  },
  {
   "cell_type": "markdown",
   "metadata": {},
   "source": [
    "* DAGs are special cases of MAGs\n",
    "* Markov property: If $X_i$ and $X_j$ are m-separated by Z, then $X_i$ and $X_j$ are probabilistically independent conditional on Z.\n",
    "* $X_i$ and $X_j$ are m-connected given $Z \\cup S$ for any $Z \\subseteq X \\backslash \\{X_i, X_j\\}$ iff there is an inducing path between $X_i$ and $X_j$ relative to $\\{L, S\\}$\n",
    "* An ancestral graph is maximal iff there is no inducing path relative to $\\{\\}$ between any two non-adjacent vertices in the graph\n",
    "\n",
    "\n",
    "1. $X_i, X_j \\in X$ are adjacent in MAG iff there is a inducing path relative to $\\{L, S\\}$\n",
    "2. Orient edges as follows:\n",
    "    * $X_i \\to X_j$ if $X_i \\in An_G(X_j \\cup S)$ and $X_j \\notin An_G(X_i \\cup S)$\n",
    "    * $X_i \\leftrightarrow X_j$ if $X_i \\notin An_G(X_j \\cup S)$ and $X_j \\notin An_G(X_i \\cup S)$\n",
    "    * $X_i - X_j$ if $X_i \\in An_G(X_j \\cup S)$ and $X_j \\in An_G(X_i \\cup S)$\n",
    "\n",
    "Then MAG probabilistically represents DAG: for any disjoint $X_i, X_j, Z \\subseteq X$, $X_i, X_j$ are entailed to be independent conditional on $Z \\cup S$ in the DAG if $X_i$ and $X_j$ are entailed to be independent conditional on Z by the MAG"
   ]
  },
  {
   "cell_type": "markdown",
   "metadata": {},
   "source": [
    "* X -> Y means that X is a cause of Y or of some selection variable, but Y is not a cause of X or of any selection variable\n",
    "* X <-> Y means that X is not a cause of Y or of any selection variable, and Y is not a cause of X or of any selection variable\n",
    "* X - Y means that X is a cause of Y or of some selection variable, and Y is a cause of X or of some selection variable \n",
    "\n",
    "* Two MAGs $M_1$ and $M_2$ with the same set of vertices are Markov equivalent, if for any three disjoint $X, Y, Z$, $X$ and $Y$ are m-separated by $Z$ in $M_1$ if and only if $X$ and $Y$ are m-separated by $Z$ in $M_2$\n",
    "* $[M]$ denotes Markov equivalence class; a mark in $M$ is invariant if the mark is the same in all members of $[M]$\n",
    "* Through conditional independence testing we hope to discover adjacencies and invariant marks of the unknown causal MAG\n",
    "* Assuming Causal Markov and Faithfulness for the underlying DAG (including latents and selections) leads to correspondence between observable conditional independence relations and m-separation relations in the causal MAG\n",
    "\n",
    "* A partial ancestral graph (PAG) is a graph s.t. \n",
    "    1. P has the same adjacencies as $[M]$\n",
    "    2. Every non-circle mark is an invariant in $[M]$\n",
    "    3. If every circle in $P$ is a variant mark in $[M]$ then P is called maximally informative for $[M]$\n",
    "\n"
   ]
  },
  {
   "cell_type": "markdown",
   "metadata": {},
   "source": [
    "The fast causal discovery algorithm is a sound and complete algorithm that outputs a maximally informative PAG assuming the Causal Markov condition and Faithfulness\n",
    "\n",
    "1. Skeleton discovery (as for PC algorithm) to find initial skeleton and separating sets\n",
    "2. Orienting colliders (as for PC algorithm)\n",
    "3. Further update skeleton\n",
    "4. Further orient colliders\n",
    "5. Exhaustively apply 10 orientation rules"
   ]
  },
  {
   "cell_type": "markdown",
   "metadata": {},
   "source": [
    "Observed dependence: Possible causal models? \n",
    "\n",
    "Causal Markov Condition: statistical dependence => causal connectedness\n",
    "\n",
    "Now add Z and assume no unobserved variables\n",
    "\n",
    "Observed conditional independence: $X \\perp\\!\\!\\!\\perp Y | Z \\iff p(X, Y | Z) = p(X | Z)p(Y | Z)$ \n",
    "\n",
    "Faithfulness assumption: statistical independence => no causal connectedness\n",
    "\n",
    "Markov equivalence: Cannot distinguish graphs\n",
    "\n",
    "Suppose $V \\perp\\!\\!\\!\\perp W, X \\perp\\!\\!\\!\\perp Y | Z, X \\perp\\!\\!\\!\\perp V | Z, X \\perp\\!\\!\\!\\perp W | Z, Y \\perp\\!\\!\\!\\perp V | Z, Y\\perp\\!\\!\\!\\perp W | Z$ but all others are dependent $X \\not\\perp\\!\\!\\!\\perp Y, X \\not\\perp\\!\\!\\!\\perp W, Y \\not\\perp\\!\\!\\!\\perp W$\n",
    "\n",
    "Which causal models explain these? assuming no unobserved variables = latents\n",
    "\n",
    "Find the only possible model (accounting for latents)\n",
    "\n",
    "Causal inference methdos use some of these assumptions, and others (e.g. time order)"
   ]
  },
  {
   "cell_type": "markdown",
   "metadata": {},
   "source": [
    "Selection bias\n",
    "\n",
    "X, Y independent\n",
    "\n",
    "Suppose we only observe samples for S = Rand\n",
    "Suppose we only observe samples for S = (Y > 0)\n",
    "Suppose we only observe samples for S = (X > 0)\n",
    "Suppose we only observe samples for S = (Y > 0) or (X > 0)\n",
    "\n",
    "Dependent $Y = cX + \\eta$ with $S = (Y > 0)$\n",
    "Dependent $Y = cX + \\eta$ with $S = (X > 0)$\n",
    "Dependent $Y = cX + \\eta$ with $S = (Y > 0) \\lor (X > 0)$\n",
    "\n",
    "Then apply MAG to encode the causal relationships"
   ]
  }
 ],
 "metadata": {
  "language_info": {
   "name": "python"
  }
 },
 "nbformat": 4,
 "nbformat_minor": 2
}
