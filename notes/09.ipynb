{
 "cells": [
  {
   "cell_type": "markdown",
   "metadata": {},
   "source": [
    "There are cases in which no adjustment sets exist. For some of them, the causal effect may nevertheless be identifiable by other means.\n",
    "\n",
    "Front-door criterion:\n",
    "\n",
    "A set $Z \\subset X \\backslash \\{X, Y\\}$ satisfies the front-door criterion for the causal effect of $X$ on $Y$ if:\n",
    "\n",
    "1. $Z$ intercepts all directed paths from $X$ to $Y$\n",
    "2. There is no unblocked back-door path from $X$ to $Z$\n",
    "3. All back-door paths from $Z$ to $Y$ are blocked by $X$.\n",
    "\n",
    "Front-door adjustment\n",
    "\n",
    "If $Z$ satisfies the front-door criterion for the causal effect of $X$ on $Y$, then the causal effect of $X$ on $Y$ is given by:\n",
    "\n",
    "$p(y | do(x)) = \\int dz p(z | x) \\int dx' p(y | x', z) p(x')$\n",
    "\n",
    "Linear Model:\n",
    "\n",
    "$\\frac{\\partial}{\\partial x} \\Bbb{E}[Y | do(X = x)] \\\\ = \\frac{\\partial}{\\partial x} \\int dy y p(y | do(x)) \\\\ = \\frac{\\partial}{\\partial x} \\int dy y \\int dz p(z | x) \\int dx' p(y | x', z) p(x') \\\\ = \\frac{\\partial}{\\partial x} \\int dz p(z | x) \\int dx' p(x') \\int dy y p(y | x', z) \\\\ = \\frac{\\partial}{\\partial x} \\int dz p(z | x) \\int dx' p(x') \\Bbb{E} [Y | X = x', Z = z] \\\\ = \\frac{\\partial}{\\partial x} \\int dz p(z | x) \\int dx' p(x') (a x' + b z) \\\\ = \\frac{\\partial}{\\partial x} \\int dz p(z | x) (a \\Bbb{E[X]} + b z) \\\\ = \\frac{\\partial}{\\partial x} (a \\Bbb{E[X]} + b \\Bbb{E}[Z | X = x]) \\\\ = b \\frac{\\partial}{\\partial x} \\Bbb{E}[Z | X = x] \\\\ = \\nabla_z \\Bbb{E}[Y | X = x', Z = z] \\frac{\\partial}{\\partial x} \\Bbb{E}[Z | X = x] \\\\ = \\sum_{Z_i \\in Z} \\frac{\\partial}{\\partial z_i} \\Bbb{E}[Y | X = x', Z = z] \\frac{\\partial}{\\partial x} \\Bbb{E}[Z_i | X = x]$\n",
    "\n",
    "Let $Z = \\{Z\\}$ be a single element set. Then: \n",
    "* $\\frac{\\partial}{\\partial x} \\Bbb{E}[Y | do(X = x)] = \\frac{\\partial}{\\partial z} \\Bbb{E}[Y | X = x', Z = z] \\frac{\\partial}{\\partial x} \\Bbb{E}[Z | X = x]$\n",
    "\n",
    "Effects:\n",
    "* $\\frac{\\partial}{\\partial x} \\Bbb{E}[Z | X = x]$ is causal effect of X on Z because there are no unblocked back-door paths from X to Z.\n",
    "* $\\frac{\\partial}{\\partial z} \\Bbb{E}[Y | X = x', Z = z]$ is causal effect of Z on Y because X blocks all back-door paths from Z to Y.\n",
    "\n",
    "Non-Linear Model:\n",
    "\n",
    "$\\frac{\\partial}{\\partial x} \\Bbb{E}[Y | do(X = x)] \\\\ = \\frac{\\partial}{\\partial x} \\int dz p(z | x) \\int dx' p(x') \\Bbb{E} [Y | X = x', Z = z] \\\\ = \\frac{\\partial}{\\partial x} \\Bbb{E}[\\Bbb{E}[Y | Z] | X = x]$"
   ]
  },
  {
   "cell_type": "markdown",
   "metadata": {},
   "source": [
    "The do-calculus: Three rules that connect different probabilities, potentially involving both observations and interventions, based on d-separations in (certain subgraphs of) the causal graph.\n",
    "\n",
    "$G_{\\overline{X}}$: Graph with no arrows into X\n",
    "\n",
    "$G_{\\overline{X}\\underline{Z}}$: Graph with no arrows into X and no arrows out of Z\n",
    "\n",
    "$G_{\\overline{X}\\overline{Z(W)}}$: Graph with no arrows into X and Z but keep ancestors of W in Z\n",
    "\n",
    "Rule 1: Insertion / deletion of observations\n",
    "\n",
    "$p(y | do(x), z, w) = p(y | do(x), w)$ if $Y \\perp\\!\\!\\!\\perp Z | X, W$ in $G_{\\overline{X}}$\n",
    "\n",
    "Rule 3: Insertion / deletion of actions\n",
    "\n",
    "$p(y | do(x), do(z), w) = p(y | do(x), w)$ if $Y \\perp\\!\\!\\!\\perp Z | X, W$ in $G_{\\overline{X}\\overline{Z(W)}}$\n",
    "\n",
    "Rule 2: Exchange of observations and actions\n",
    "\n",
    "$p(y | do(x), do(z), w) = p(y | do(x), z, w)$ if $Y \\perp\\!\\!\\!\\perp Z | X, W$ in $G_{\\overline{X}\\underline{Z}}$\n",
    "\n",
    "Relevance: There are cases in which an identifiable causal effect can neither be identified by adjustment nor by the front-door criterion. In such cases, the do-calculus can be used to identify the causal effect.\n",
    "\n",
    "Completeness: The expression $p(y | do(x), z)$ is identifiable if and only if it can be reduced to a do-free expression involving observed variables only by the rules of do-calculus and laws of probability.\n",
    "\n",
    "There are algorithms that reduce $p(y | do(x), z)$ to do-free expression involving observed variables whenever $p(y | do(x), z)$ is identifiable."
   ]
  },
  {
   "cell_type": "markdown",
   "metadata": {},
   "source": [
    "Derivation of front-door adjustment (using do-calculus)"
   ]
  },
  {
   "cell_type": "markdown",
   "metadata": {},
   "source": [
    "Other aspects:\n",
    "\n",
    "Non-identifiability: $p(y | do(x))$ and $\\partial_x \\Bbb{E}[Y | do(X = x)]$ cannot be uniquely determined from the observational distribution without further assumptions, even given the parameteric assumption.\n",
    "\n",
    "Additional assumption: Linear Gaussian model\n",
    "\n",
    "* $L = \\eta_L, \\eta_L \\sim N(0, \\sigma_L^2)$\n",
    "* $I = \\eta_I, \\eta_I \\sim N(0, \\sigma_I^2)$\n",
    "* $X = a I + b L + \\eta_X, \\eta_X \\sim N(0, \\sigma_X^2)$\n",
    "* $Y = c X + d L + \\eta_Y, \\eta_Y \\sim N(0, \\sigma_Y^2)$\n",
    "\n",
    "$\\partial_x \\Bbb{E}[Y | do(X = x)] = c$\n",
    "\n",
    "$\\text{cov}(I, X) = a \\text{var}(I) + b \\text{cov}(L, I) + \\text{cov}(\\eta_X, I) = a \\text{var}(I)$\n",
    "\n",
    "$\\text{cov}(I, Y) = c a \\text{var}(I) + (c b + d) \\text{cov}(L, I) + c \\text{cov}(\\eta_X, I) + \\text{cov}(\\eta_Y, I) = c a \\text{var}(I)$\n",
    "\n",
    "$c = \\frac{\\text{cov}(I, Y)}{\\text{cov}(I, X)} = \\frac{r_{Y I}}{r_{X I}}$"
   ]
  },
  {
   "cell_type": "markdown",
   "metadata": {},
   "source": [
    "Causal effect identification from CPDAGs: Estimate causal effects despite not knowing the causal graph beforehand.\n",
    "\n",
    "1. Causal discovery: Estimate the CPDAG from observational data\n",
    "2. Causal effect identification: Estimate causal effects from the CPDAG\n",
    "\n",
    "Generalized adjustment criterion: Complete characterization of adjustment sets in CPDAGs, i.e., sets of variables which are adjustment sets in every DAG in the Markov equivalence class of the CPDAG.\n",
    "\n",
    "IDA algorithm: When there is no adjustment in the CPDAG, one can bound the causal effect by IDA (Intervention Calculus when the DAG is Absent).\n",
    "\n",
    "1. List the DAGs in the Markov equivalence class of the CPDAG\n",
    "2. In each DAG determine an adjustment set and estimate the causal effect\n",
    "3. Return a set of possible causal effects\n",
    "\n",
    "Outlook: Complications, Refinements\n",
    "\n",
    "1. Identification of causal effects via surrogate experiments\n",
    "2. Transferring causal knowledge from one system to another (transportability)\n",
    "3. Identification of causal effects in the presence of latent variables\n",
    "4. Identification of causal effects in the presence of selection variables\n",
    "5. Do-calculus in case the DAG is not known."
   ]
  }
 ],
 "metadata": {
  "language_info": {
   "name": "python"
  }
 },
 "nbformat": 4,
 "nbformat_minor": 2
}
