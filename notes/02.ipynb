{
 "cells": [
  {
   "cell_type": "markdown",
   "metadata": {},
   "source": [
    "$X \\sim N(0, 1) \\implies p(x) = \\frac{1}{\\sqrt{2\\pi}} e ^{-\\frac{x^2}{2}}$\n",
    "\n",
    "$Y | X \\sim N(x, 1) \\implies \\frac{1}{\\sqrt{2\\pi}} e ^{-\\frac{(y - x)^2}{2}}$"
   ]
  },
  {
   "cell_type": "markdown",
   "metadata": {},
   "source": [
    "But we cannot deduct using the joint distribution of both that one of them causes another one. Cause-effect is a much stricter assumption and has to be handled asymmetrically. "
   ]
  },
  {
   "cell_type": "markdown",
   "metadata": {},
   "source": [
    "1. $do(X := x_0)$: $Y | do(X := x_0) \\sim N(x_0, 1)$\n",
    "2. $do(Y := y_0)$: $X | do(Y := y_0) \\sim N(0, 1)$"
   ]
  },
  {
   "cell_type": "markdown",
   "metadata": {},
   "source": [
    "Bivariate SCM:\n",
    "1. $C := \\eta^C$ \n",
    "2. $E := f_E(C, \\eta^E)$\n",
    "with independent variables $n^C \\sim p^C$ and $n^E \\sim p^E$\n",
    "\n",
    "* Both are random variables. Left and right hand side are not treated symmetrically.\n",
    "* Not allowed to solve the second equation for C."
   ]
  },
  {
   "cell_type": "markdown",
   "metadata": {},
   "source": [
    "* C: cause\n",
    "* E: effect\n",
    "* $f_E$: mechanism by which C determines E\n",
    "* $:=$ manifest the asymmetry between cause and effect\n",
    "* $\\eta^C$ and $\\etaÊ$ summarize all background factors outside model\n",
    "* $\\eta^C \\perp\\!\\!\\!\\perp \\etaÊ$ means the model is sufficient to describe the causal relationship between C and E"
   ]
  },
  {
   "cell_type": "markdown",
   "metadata": {},
   "source": [
    "In our case:\n",
    "* $C := \\eta^C$ with $\\eta^C \\sim N(0, 1)$\n",
    "* $E := C + \\eta^E$ with $\\eta^E \\sim N(0, 1)$"
   ]
  },
  {
   "cell_type": "markdown",
   "metadata": {},
   "source": [
    "Entailed distribution:\n",
    "* $p_{\\cal C}(c, e) = p_{\\cal C}(c) * p_{\\cal C}(e | c)$"
   ]
  },
  {
   "cell_type": "markdown",
   "metadata": {},
   "source": [
    "Define causal graph ${\\cal G(C)}$ as a DAG with: \n",
    "* Variables: vertex set $\\{C, E\\}$\n",
    "* Causal influences: directed edge from $C \\to E$ if $f_E(C, \\eta^E)$ is a non-trivial function of C (else without edge)"
   ]
  },
  {
   "cell_type": "markdown",
   "metadata": {},
   "source": [
    "An intervention on $E$ ($do(E := e_0)$) defines a modified SCM ${\\cal C}^{do(E := e_0)}$ obtained by replacing the old assignment of $E$ with $E := e_0$.\n",
    "\n",
    "* $E$ becomes $e_0$ instead of $E := f_E(C, \\eta^E)$\n",
    "\n",
    "Modified distributions:\n",
    "* Effect is affected by an intervention on cause: $p_{{\\cal C}^{do(C := c_0)}}(c, e) = p_{\\cal C}(c, e | do(C := c_0)) = p_{\\cal C}(e | c_0)\\delta(c - c_0)$\n",
    "* Cause is not affected by an intervention on effect: $p_{{\\cal C}^{do(E := e_0)}}(c, e) = p_{\\cal C}(c, e | do(E := e_0)) = p_{\\cal C}(c)\\delta(e - e_0)$"
   ]
  },
  {
   "cell_type": "markdown",
   "metadata": {},
   "source": [
    "Structural Causal Models\n",
    "\n",
    "$X = \\{X_1, …, X_n\\}$ is a set of random variables with structural assignments:\n",
    "* $X_i := f_i(PA_i, \\eta_i)$\n",
    "where $PA_i \\subset X \\backslash X_i$ are the causal parents of $X_i$ together with n jointly independent noise distributions $p_i$ with $\\eta_i \\sim p_i$ \n",
    "\n",
    "Conventions and Interpretation:\n",
    "* Variables in $PA_i$ are direct causes of $X_i$\n",
    "* $f_i$ represents the mechanism by which $PA_i$ determines $X_i$\n",
    "* $\\eta_i$ summarizes all background factors outside the model\n",
    "* Their joint independence means the model is sufficient to describe the causal relationship among all variables.\n",
    "\n",
    "SCM is acyclic, if its causal graph is acyclic, also if $G({\\cal C})$ is a DAG.\n",
    "\n",
    "Then $p_{\\cal C}$ is well-defined and entailed distribution $p_{\\cal C}(x)$ is given by: $p_{\\cal C}(x_1, …, x_n) = p_{\\cal C}(x_1 | PA_1) … p_{\\cal C}(x_n | PA_n)$\n",
    "\n",
    "Interventional distribution looks like:\n",
    "\n",
    "$p_{{\\cal C}^{do(X_i := k_i)}}(x_1, …, x_n) = \\frac{p_{\\cal C}(x_1, …, x_n)}{p_{\\cal C}(x_i | PA_i)} \\delta(x_i - k_i)$ provided $p_{\\cal C}(x_i | PA_i) > 0$ (strictly positive distribution)"
   ]
  },
  {
   "cell_type": "markdown",
   "metadata": {},
   "source": [
    "Total causal effect if $y, x_0, x_0'$ s.t.\n",
    "$p_{\\cal C} (y | do(X := x_0)) \\ne p_{\\cal C} (y | do(X := x_0'))$ and then a directed path from X to Y in the causal graph. "
   ]
  },
  {
   "cell_type": "markdown",
   "metadata": {},
   "source": [
    "3-Layer Causal Hierarchy\n",
    "1. Association (Seeing, $P(y | x)$)\n",
    "    * What is?\n",
    "    * How would seeing X change my belief in Y?\n",
    "    * e.g. What does a symptom tell me about a disease?\n",
    "    * e.g. What does a survey tell us about the election results?\n",
    "2. Intervention (Doing, $P(y | do(x), z)$)\n",
    "    * What if?\n",
    "    * What if I do X?\n",
    "    * e.g. What if I take aspirin, will my headache be cured?\n",
    "    * e.g. What if we ban cigarettes?\n",
    "3. Counterfactuals (Thinking, $P(y_x | x', y')$)\n",
    "    * Why?\n",
    "    * Was it X that caused Y?\n",
    "    * What if I had acted differently?\n",
    "    * e.g. Was it the aspirin that stopped my headache?\n",
    "    * e.g. Would Kennedy be alive, had Oswald not shot him?\n",
    "    * e.g. What if I had not been smoking the past 2 years?"
   ]
  },
  {
   "cell_type": "markdown",
   "metadata": {},
   "source": [
    "Ex 1: Give an example of two SCMs that entail the same observational distributions but different interventional distributions. Explain your choice."
   ]
  },
  {
   "cell_type": "markdown",
   "metadata": {},
   "source": [
    "Ex 2: $X \\sim N(0, 1), Y = WX$ where $p(W = 1) = p(W = -1) = \\frac{1}{2}$ \n",
    "* Show that $Y \\sim N(0, 1)$\n",
    "    * $p(X = x) = \\frac{1}{\\sqrt{2\\pi}} e ^{-\\frac{x^2}{2}}$\n",
    "    * $p(W = w) = \\frac{1}{2}\\text{ if }|w| = 1\\text{ else }0$\n",
    "    * $p(Y = y | W \\in \\{1, -1\\}) = \\frac{1}{2}p(X = y) + \\frac{1}{2}p(X = -y) = \\frac{1}{\\sqrt{2\\pi}} e ^{-\\frac{y^2}{2}} \\sim N(0, 1)$\n",
    "    \n",
    "* Are X and Y independent?\n",
    "    * $p(X = x, Y = y) = p(X = x, WX = y) = p(X = x, X = \\frac{y}{w}) = p(X = x, X = -\\frac{y}{w}) = p(X = x) = \\frac{1}{\\sqrt{2\\pi}} e ^{-\\frac{x^2}{2}}$\n",
    "    * Similarly solve for Y\n",
    "* Show that X, Y are uncorrelated, i.e. that $Cov(X, Y) = 0$. Use the rule of iterated expectation $\\Bbb{E}[XY] = \\Bbb{E}[\\Bbb{E}[XY|W]]$\n",
    "    * $\\Bbb{E}[XY] = \\Bbb{E}[\\Bbb{E}[XY|W]] = \\Bbb{E}[X\\Bbb{E}[Y|W]] = \\Bbb{E}[X\\Bbb{E}[WX|W]] = \\Bbb{E}[X^2\\Bbb{E}[W|W]] = \\Bbb{E}[X^2] = 1$\n",
    "    * $\\Bbb{E}[X]\\Bbb{E}[Y] = 0$\n",
    "    * $Cov(X, Y) = \\Bbb{E}[XY] - \\Bbb{E}[X]\\Bbb{E}[Y] = 1 - 0 = 1$\n",
    "* A well-known theorem states that if $(X, Y)$ is a Gaussian random vector, then $X \\perp Y$ if and only if $Cov(X, Y) = 0$. Why does this not contradict our previous findings? "
   ]
  },
  {
   "cell_type": "markdown",
   "metadata": {},
   "source": [
    "Ex 3.\n",
    "\n",
    "Given:\n",
    "\n",
    "* $X := 2 * Y + \\eta_X$\n",
    "* $Y := 2 * X + \\eta_Y$\n",
    "* $(\\eta_X, \\eta_Y) \\sim P$\n",
    "\n",
    "Solve:\n",
    "* $X = a \\eta_X + b \\eta_Y$\n",
    "* $Y = c \\eta_X + d \\eta_Y$\n",
    "\n",
    "$X := 2 * Y + \\eta_X := 2 * (2 * X + \\eta_Y) + \\eta_X = 4X + 2\\eta_Y + \\eta_X \\\\ \\iff X = -\\frac{1}{3}\\eta_X -\\frac{2}{3}\\eta_Y$\n",
    "\n",
    "$\\implies Y = 2 * (-\\frac{1}{3}\\eta_X -\\frac{2}{3}\\eta_Y) + \\eta_Y = -\\frac{2}{3}\\eta_X -\\frac{1}{3}\\eta_Y$"
   ]
  },
  {
   "cell_type": "markdown",
   "metadata": {},
   "source": [
    "Given $X := Y + \\eta_X, Y := X + \\eta_Y$ with $(\\eta_X, \\eta_Y) \\sim P$\n",
    "\n",
    "If $P$ has a density and if $\\eta_X \\perp \\eta_Y$ -> No solution of the SCM."
   ]
  },
  {
   "cell_type": "markdown",
   "metadata": {},
   "source": [
    "Solve for $X$: $X := Y + \\eta_X := X + \\eta_Y + \\eta_X$. Then the only way $X$ is stabilized (as well as $Y$) is that they both are equal to $\\eta_X + \\eta_Y$. Then $(X, Y) \\sim P$ and there is no correlation between $X$ and $Y$, which is obviously a contradiction to the given causal statements. "
   ]
  },
  {
   "cell_type": "markdown",
   "metadata": {},
   "source": [
    "Let $P(0) = 1, P(x \\ne 0) = 0$ with no density function and $\\eta_X, \\eta_Y \\sim P$:\n",
    "* $X := Y + \\eta_X = Y$\n",
    "* $Y := X + \\eta_Y = X$\n",
    "* $X = Y$ and any parameter $a, b, c, d$ satisfies the equation. "
   ]
  }
 ],
 "metadata": {
  "language_info": {
   "name": "python"
  }
 },
 "nbformat": 4,
 "nbformat_minor": 2
}
