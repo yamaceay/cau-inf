{
 "cells": [
  {
   "cell_type": "markdown",
   "metadata": {},
   "source": [
    "DAG enumeration algorithm\n",
    "\n",
    "Let $G = \\{G | G\\text{ is a DAG with vertices }X\\}$\n",
    "\n",
    "Let $G' = \\{\\}$\n",
    "\n",
    "for $G \\in G$:\n",
    "\n",
    "for all $(X, Y, Z)$ do\n",
    "\n",
    "if $[X \\bowtie Y | Z]_G$ and $X \\not\\perp\\!\\!\\!\\perp Y | Z$ or vice versa, then\n",
    "\n",
    "Continue with next $G \\in G$ in line 3\n",
    "\n",
    "Endif\n",
    "\n",
    "Endfor\n",
    "\n",
    "Add $G$ to $G'$\n",
    "\n",
    "Endfor\n",
    "\n",
    "Let $\\hat{G}$ be the skeleton of any $G \\in G'$\n",
    "\n",
    "Apply all edge orientiations to $\\hat{G}$ that are shared by all $G \\in G'$\n",
    "\n",
    "Return $\\hat{G}$"
   ]
  },
  {
   "cell_type": "markdown",
   "metadata": {},
   "source": [
    "Soundness: Given the above assumptions $\\hat{G}$ has the same skeleton as the true causal graph $G$ and all non-circle edge marks in $\\hat{G}$ are also in $G$.\n",
    "\n",
    "Completeness: Given the above assumptions, $\\hat{G}$ is the CPDAG of $G$"
   ]
  },
  {
   "cell_type": "markdown",
   "metadata": {},
   "source": [
    "Explanation\n",
    "\n",
    "* The assumptions imply that the set of d-separations of the true causal graph G agrees with the set of conditional independencies.\n",
    "* Hence, G must be an element of G' after appending.\n",
    "* All $G \\in G'$ have the same set of d-separations.\n",
    "* Hence, $G'$ contains all and only members of [G] after the same line.\n",
    "* Hence, $\\hat{G}$ is the CPDAG of G."
   ]
  },
  {
   "cell_type": "markdown",
   "metadata": {},
   "source": [
    "Lemma 1:\n",
    "\n",
    "Let G be Markov relative and faithful to p. Consider any two vertices X and Y. Then:\n",
    "\n",
    "If X and Y are adjacent, then there is no S such that $X \\perp\\!\\!\\!\\perp Y | S$ and vice versa.\n",
    "\n",
    "Lemma 2:\n",
    "\n",
    "Same assumptions. Consider any unshielded triple $(X, Y, Z)$ with $X \\perp\\!\\!\\!\\perp Z | S$. Then:\n",
    "\n",
    "* If $Y \\notin S$: collider\n",
    "* Else: fork and chain\n",
    "\n"
   ]
  },
  {
   "cell_type": "markdown",
   "metadata": {},
   "source": [
    "SGS algorithm is more efficient\n",
    "\n",
    "Use Lemma 1:"
   ]
  },
  {
   "cell_type": "markdown",
   "metadata": {},
   "source": [
    "Initialize $\\hat{G}$ as fully connected unoriented graph\n",
    "\n",
    "For all unordered pairs $(X, Y)$ of vertices do\n",
    "\n",
    "For all $S \\subset X \\backslash \\{X, Y\\}$ do\n",
    "\n",
    "If $X \\perp\\!\\!\\!\\perp Y | S$ then\n",
    "\n",
    "Remove edge between $X$ and $Y$ from $\\hat{G}$\n",
    "\n",
    "Let $Sepset(X, Y) = Sepset(Y, X) = S$\n",
    "\n",
    "Break inner for\n",
    "\n",
    "Endif\n",
    "\n",
    "Endfor x 2"
   ]
  },
  {
   "cell_type": "markdown",
   "metadata": {},
   "source": [
    "Use Lemma 2:"
   ]
  },
  {
   "cell_type": "markdown",
   "metadata": {},
   "source": [
    "Turn all edges into implicit edges\n",
    "\n",
    "For all unshielded (implicit) triples $X-Y-Z$ in $\\hat{G}$ do\n",
    "\n",
    "If $Y \\notin Sepset(X, Z)$ then\n",
    "\n",
    "Orient $X-Y-Z$ as $X -> Y <- Z$ in $\\hat{G}$"
   ]
  },
  {
   "cell_type": "markdown",
   "metadata": {},
   "source": [
    "Part 3:\n",
    "\n",
    "Apply the new orientation rules and transform the graphs forward."
   ]
  },
  {
   "cell_type": "markdown",
   "metadata": {},
   "source": [
    "PC algorithm\n",
    "\n",
    "Modify part 1 of SGS in the following way:\n",
    "\n",
    "Form an undirected graph s.t. two vertices X and Y are adjacent if and only if there is $S \\subset T_{XY}$ s.t. $X \\perp\\!\\!\\!\\perp Y | S$ for a certain $T_{XY} \\subset X \\backslash \\{X, Y\\}$\n",
    "\n",
    "Preferentially use smaller conditioning sets S\n",
    "\n",
    "Then continue with parts 2 and 3 of SGS."
   ]
  },
  {
   "cell_type": "markdown",
   "metadata": {},
   "source": [
    "Lemma:\n",
    "\n",
    "Let X and Y be two distinct non-adjacent vertices in a DAG. If Y is not an ancestor of X, then there is $S \\subset pa(G, Y)$ s.t. $X \\perp\\!\\!\\!\\perp Y | S$"
   ]
  },
  {
   "cell_type": "markdown",
   "metadata": {},
   "source": [
    "Problem 1:\n",
    "\n",
    "In part 1 of the algorithm: When testing whether any pair $(X, Y)$ of vertices is adjacent, restrict conditioning sets S to subsets of \n",
    "* $pa(G, Y)$ if Y is not an ancestor of X\n",
    "* $pa(G, X)$ if X is not an ancestor of Y\n",
    "\n",
    "At this point, it is not known whether Y is not an ancestor of X or vice versa, what the parents of given vertex are. \n"
   ]
  },
  {
   "cell_type": "markdown",
   "metadata": {},
   "source": [
    "Problem 2:\n",
    "\n",
    "Use conditioning sets $S \\subset T_Y$ with $T_Y \\supset pa(G, Y)$ and $S \\subset T_X$ with $T_X \\supset pa(G, X)$"
   ]
  },
  {
   "cell_type": "markdown",
   "metadata": {},
   "source": [
    "Corollary:\n",
    "\n",
    "Let G be Markov relative and faithful to p. Consider any two vertices X and Y and let $T_X \\supset pa(G, X)$ and $T_Y \\supset pa(G, Y)$.\n",
    "\n",
    "* If X and Y are adjacent, then there is neither $S \\subset T_X$ nor $S \\subset T_Y$ s.t. $X \\perp\\!\\!\\!\\perp Y | S$\n",
    "\n",
    "* If X and Y are non-adjacent, then there is $S \\subset T_X$ or $S \\subset T_Y$ s.t. $X \\perp\\!\\!\\!\\perp Y | S$"
   ]
  },
  {
   "cell_type": "markdown",
   "metadata": {},
   "source": [
    "PC step 1\n",
    "\n",
    "Initialize $\\hat{G}$ as fully connected unoriented graph\n",
    "\n",
    "Let $p = 0$\n",
    "\n",
    "while $\\exists$ adjacent ordered pair $(X, Y)$ with $|adj(\\hat{G}, Y) \\backslash \\{X\\}| \\ge p$ do\n",
    "\n",
    "For all ordered pairs $(X, Y)$ of adjacent vertices do\n",
    "\n",
    "For all $S \\subset adj(\\hat{G}, Y) \\backslash \\{X\\}$ with $|S| = p$ do\n",
    "\n",
    "If $X \\perp\\!\\!\\!\\perp Y | S$ then\n",
    "\n",
    "Remove edge between $X$ and $Y$ from $\\hat{G}$\n",
    "\n",
    "Let $Sepset(X, Y) = Sepset(Y, X) = S$\n",
    "\n",
    "Break inner for all\n",
    "\n",
    "Increase $p$ to $p + 1$"
   ]
  },
  {
   "cell_type": "markdown",
   "metadata": {},
   "source": [
    "Issue: In practice we do not know the ground-truth independencies\n",
    "\n",
    "Modification:\n",
    "\n",
    "Employ statistical tests of conditional independence.\n",
    "\n",
    "$X \\perp\\!\\!\\!\\perp Y | S$ replaced by $CI-Test(X, Y, S)$\n",
    "\n",
    "Effect:\n",
    "\n",
    "* Some of these tests may give an erroneous conclusion.\n",
    "* Hence, $\\hat{G}$ is no longer guaranteed to be the CPDAG of the true causal graph.\n",
    "* Asymptotic consistency: For number of samples $\\to \\infty$ the estimated $\\hat{G}$ converges to the true CPDAG."
   ]
  },
  {
   "cell_type": "markdown",
   "metadata": {},
   "source": [
    "Issue: Without independence oracle the output of the PC algorithm may depend on the order in which the variables are given\n",
    "\n",
    "Modification: The PC-stable algorithm is a modification of PC that overcomes this issue. "
   ]
  },
  {
   "cell_type": "markdown",
   "metadata": {},
   "source": [
    "Issue: The assumption of faithfulness is rather strong and often criticized.\n",
    "\n",
    "Modification: The conservative PC algorithm is a modification of PC that only requires the weaker adjacency faithfulness assumption and is even able to detect some violations of full faithfulness. \n",
    "\n",
    "Adjacency faithfulness: If $X$ and $Y$ are adjacent, then there is no $S \\subset X \\backslash \\{X, Y\\}$ s.t. $X \\perp\\!\\!\\!\\perp Y | S$"
   ]
  },
  {
   "cell_type": "markdown",
   "metadata": {},
   "source": [
    "Issue: In practice, the assumption of causal sufficiency is rarely justified. Rather, there may be unobserved variables. \n",
    "\n",
    "Modification: The FCI algorithm generalizes PC to the causally insufficient case in which there may be latent variables as well as selection variables. "
   ]
  },
  {
   "cell_type": "markdown",
   "metadata": {},
   "source": [
    "Issue: The assumption of acyclicity limits the applicability of PC. \n",
    "\n",
    "Modification: When giving a different causal semantics to the estimated graph $\\hat{G}$ the PC algorithm remains sound and complete even if there are cyclic causal relationships. "
   ]
  },
  {
   "cell_type": "markdown",
   "metadata": {},
   "source": [
    "Task: Code the PC algorithm in python or jupyter with an oracle conditional independence test. Discussed on 12.01.24"
   ]
  },
  {
   "cell_type": "markdown",
   "metadata": {},
   "source": []
  }
 ],
 "metadata": {
  "language_info": {
   "name": "python"
  }
 },
 "nbformat": 4,
 "nbformat_minor": 2
}
