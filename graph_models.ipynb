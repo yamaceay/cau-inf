{
 "cells": [
  {
   "cell_type": "markdown",
   "metadata": {},
   "source": [
    "Conditional Independencies\n",
    "\n",
    "* Different ways of showing them visually (the quality of the solution depends on the order of variables, but not the outcome)\n",
    "\n",
    "Markovian Parents: $p(x_i | pa_i) = p(x_i | x_1, …, x_{i - 1})$, also \n",
    "* $X_i \\perp\\!\\!\\!\\perp (X_1, …, X_{i - 1}) \\backslash pa_i | pa_i$\n",
    "* $p(x_1, …, x_n) = p(x_1) * p(x_2 | pa_2) * … * p(x_n | pa_n)$\n",
    "\n",
    "Any permutation of parents should result same"
   ]
  },
  {
   "cell_type": "markdown",
   "metadata": {},
   "source": [
    "* *parents*: $\\{V_i \\in V : V_i \\to V_j\\}$\n",
    "* *children*: $\\{V_i \\in V : V_j \\to V_i\\}$\n",
    "* *ancestors*: itself, parents, parents of parents, …\n",
    "* *descendants*: itself, children, children of children, …\n",
    "* *exogenous*: no parents, root"
   ]
  },
  {
   "cell_type": "markdown",
   "metadata": {},
   "source": [
    "Bayesian Networks: Product decomposition of a pdf p by a DAG, if the Markovian parents of $X_i$ agree with the parents of all vertices $V_i$: $pa(X_i) = pa_G(V_i) \\forall i \\implies X_i \\equiv V_i$\n"
   ]
  },
  {
   "cell_type": "markdown",
   "metadata": {},
   "source": [
    "Which independencies hold in all $p \\sim G$ for a given DAG? -> d-separation\n",
    "\n",
    "$X_i \\bowtie X_j | S$: \"A path between $X_i$ and $X_j$ is blocked by $S$\", if\n",
    "1. the path contains a chain $X_i \\to X_k \\to X_j$ or a fork $X_i \\leftarrow X_k \\to X_j$ s.t. the middle node is in $S$. (No direct information flow between $X_i$ and $X_j$)\n",
    "\n",
    "OR\n",
    "\n",
    "2. the path contains a collider $X_i \\to X_k \\leftarrow X_j$ s.t. no descendant of the middle node $X_k$ is in $S$. (Information flow if any descendant node of them is observed)\n",
    "\n",
    "\n",
    "$X_i$ from $X_j$ are d-separated given S if S blocks every path from $X_i$ to $X_j$. Then: $X_i \\bowtie X_j | S \\implies X_i \\perp\\!\\!\\!\\perp X_j | S$ in all $p$ with $p \\sim G$"
   ]
  },
  {
   "cell_type": "markdown",
   "metadata": {},
   "source": [
    "4 Cases:\n",
    "\n",
    "1. Fork: $X_k \\to X_i, X_j$\n",
    "    * Observe $X_k$: Blocked\n",
    "    * Otherwise: Open\n",
    "\n",
    "2. Chain: $X_i \\to X_k \\to X_j$\n",
    "    * Observe $X_k$: Blocked\n",
    "    * Otherwise: Open\n",
    "\n",
    "3. Collider: $X_i, X_j \\to X_k$\n",
    "    * Observe $X_k$: Open\n",
    "    * Otherwise: Blocked\n",
    "\n",
    "4. (Another) Collider: $X_i, X_j \\to X_k \\to X_n$\n",
    "    * Observe $X_n$: Open\n",
    "    * Otherwise: Blocked\n",
    "\n",
    "\n",
    "Ex 1:\n",
    "\n",
    "Given DAG:\n",
    "* $A \\to B$\n",
    "* $B, D \\to C$\n",
    "* $D, F \\to E$\n",
    "* $E \\to G$\n",
    "* $F \\to H$ \n",
    "\n",
    "Given $S = \\{C, G\\}$\n",
    "\n",
    "Path $ABCDEFH$ is open\n",
    "* ABC: Chain, open\n",
    "* BCD: Collider, C is in S, so open\n",
    "* CDE: Fork, open\n",
    "* DEFG: Collider, G is in S, so open\n",
    "* EFH: Fork, open\n",
    "\n",
    "Ex 2:\n",
    "\n",
    "Given DAG:\n",
    "* $A \\to B$\n",
    "* $B, D \\to C$\n",
    "* $D, F \\to E$\n",
    "* $F \\to G$\n",
    "\n",
    "Given $S = \\{F\\}$\n",
    "\n",
    "Path $ABCDEFG$ is blocked\n",
    "* ABC: Chain, open\n",
    "* BCD: Collider, blocked\n",
    "\n"
   ]
  },
  {
   "cell_type": "markdown",
   "metadata": {},
   "source": [
    "Marrying parents effect\n",
    "\n",
    "Given $X \\not\\perp\\!\\!\\!\\perp Y | (Z, W)$\n",
    "* X and Y contain information about the value of Z and W\n",
    "* Conditioning on a certain value of Z / W thus puts a joint contraint on the values of X and Y"
   ]
  },
  {
   "cell_type": "markdown",
   "metadata": {},
   "source": [
    "Ex 3:\n",
    "\n",
    "Given DAG:\n",
    "* $X_3, X_2 \\to X_1$\n",
    "* $X_2, X_5 \\to X_4$\n",
    "* $X_1, X_5 \\to Y$\n",
    "* $X_4 \\to X_6$\n",
    "\n",
    "Paths from $X_3$ to $Y$:\n",
    "* $X_3 - X_1 - Y$\n",
    "* $X_3 - X_2 - X_4 - X_5 - Y$\n",
    "\n",
    "If $S = \\{\\}$, then: \n",
    "* $X_1$ blocks all paths\n",
    "* No path is open\n",
    "\n",
    "If $S = \\{X_1\\}$, then:\n",
    "* $X_1$ is opened, so $Y$ and $X_2$ are opened as well\n",
    "* This means, first path is opened\n",
    "* $X_2$ blocks the second path\n",
    "* Only the first path is open\n",
    "\n",
    "If $S = \\{X_1, X_6\\}$, then:\n",
    "* $X_1$ opens $Y$ and $X_2$\n",
    "* $X_5, X_2 \\to X_4 \\to X_6$ is a collider with observed $X_6$ \n",
    "* So the second path is opened until $X_5$, and followingly $Y$\n",
    "* Both paths are open\n",
    "\n",
    "If $S = \\{X_1, X_6, X_2\\}$, then:\n",
    "* $X_1$ opens $Y$ and $X_2$\n",
    "* This time, $X_2$ is observed\n",
    "* So the second path is opened until $X_4$\n",
    "* then, $X_5$ at the center of a fork blocks the path\n",
    "* Only the first path is open\n",
    "\n",
    "Paths from $X_4$ to $Y$:\n",
    "* $X_4 - X_5 - Y$\n",
    "* $X_4 - X_2 - X_1 - Y$\n",
    "\n",
    "Now:\n",
    "* If $S$ contains $X_5$, then the first path is opened\n",
    "* If $S$ contains $X_2$, then the second path is opened\n",
    "\n",
    "Paths from $X_3$ to $X_6$:\n",
    "* $X_3 - X_2 - X_4 - X_6$\n",
    "* $X_3 - X_1 - Y - X_5 - X_4 - X_6$\n",
    "\n",
    "Now: \n",
    "* If $S$ contains $X_1$, then the first path is opened\n",
    "* If $S$ contains $Y$ (additionally), then the second path is opened"
   ]
  },
  {
   "cell_type": "markdown",
   "metadata": {},
   "source": [
    "Global Markov Property: $X \\bowtie Y | S \\implies X \\perp\\!\\!\\!\\perp Y | S$ for all graphs $G$\n",
    "\n",
    "Local Markov Property: $\\text{Nondescendants}(X_j) \\perp\\!\\!\\!\\perp X_j | P(X_j)$ with respect to a $G$"
   ]
  },
  {
   "cell_type": "markdown",
   "metadata": {},
   "source": [
    "$G_1$ and $G_2$ are Markov equivalent if they imply the same set of d-separations\n",
    "\n",
    "* They have the same skeleton\n",
    "* They have the same v-structures (unshielded colliders), e.g. colliders for which X_i and X_j are not connected, but X_k is connected to both of them"
   ]
  },
  {
   "cell_type": "markdown",
   "metadata": {},
   "source": [
    "Completed partially directed acyclic graph (CPDAG): A DAG that is Markov equivalent to several graphs G"
   ]
  },
  {
   "cell_type": "markdown",
   "metadata": {},
   "source": [
    "1. Fork: $X_k \\to X_i, X_j$\n",
    "    * Both are connected via $X_k$\n",
    "    * $p(x_i | *) = p(x_i | x_k)$\n",
    "    * $p(x_j | *) = p(x_j | x_k)$\n",
    "    * Conditioning on $X_k$ makes $p(x_i | x_k) = p(x_i)$\n",
    "    * Conditioning on $X_k$ makes $p(x_j | x_k) = p(x_j)$\n",
    "    * So conditioning on $X_k$ separates $X_i$ and $X_j$\n",
    "\n",
    "2. Chain: $X_i \\to X_k \\to X_j$\n",
    "    * Both are connected via $X_k$\n",
    "    * $p(x_j | *) = p(x_j | x_k)$\n",
    "    * $p(x_k | *) = p(x_k | x_i)$\n",
    "    * Conditioning on $X_k$ makes $p(x_j | x_k) = p(x_j)$\n",
    "    * So conditioning on $X_k$ separates $X_i$ and $X_j$\n",
    "\n",
    "3. Collider: $X_i, X_j \\to X_k … \\to X_l \\to X_m$\n",
    "    * Both are independent of $X_m$\n",
    "    * $p(x_m | *) = p(x_m | x_l) … p(x_k | x_i, x_j)$\n",
    "    * Conditioning on $X_m$ makes $p(x_i | *) = p(x_i | x_m)$\n",
    "    * Conditioning on $X_m$ makes $p(x_j | *) = p(x_j | x_m)$\n",
    "    * So conditioning on $X_m$ connects $X_i$ and $X_j$"
   ]
  }
 ],
 "metadata": {
  "language_info": {
   "name": "python"
  }
 },
 "nbformat": 4,
 "nbformat_minor": 2
}
