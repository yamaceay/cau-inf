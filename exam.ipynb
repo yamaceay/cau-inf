{
 "cells": [
  {
   "attachments": {},
   "cell_type": "markdown",
   "metadata": {},
   "source": [
    "## 1\n",
    "\n",
    "Define the following concepts:\n",
    "* Structural causal models: These are the underlying causal models which may have been shown using causal graphs and observations\n",
    "* Entailed distribution of an SCM: the probability distribution which matches the constraints of a SCM.\n",
    "* Causal graph of an SCM: This is a form of showing the causal relationships using nodes as variables and edges as causal relationships between variables. A causal graph is acyclic, if there is no directed cycles between any pair of variables. \n",
    "\n",
    "Two SCMs with same entailed distributions but different interventional distributions:\n",
    "\n",
    "* $X \\sim N(0, 1), Y \\sim N(X, 1)$\n",
    "* $Y \\sim N(0, 2), X \\sim N(\\frac{Y}{2}, \\frac{1}{2})$\n",
    "\n",
    "* $X^2 + Y^2 - 2XY + X^2 = 2X^2 + Y^2 - 2XY = \\frac{1}{2}(4X^2 - 4XY + Y^2) + \\frac{1}{2}(Y^2) = \\frac{1}{2}((2X - Y)^2 + Y^2) = \\frac{1}{2}Y^2 + 2(X - \\frac{Y}{2})^2$"
   ]
  },
  {
   "attachments": {},
   "cell_type": "markdown",
   "metadata": {},
   "source": [
    "## 2\n",
    "\n",
    "In this question, we refer to the possibility that a causal graph may be mapped into different observational cases, regarding the actions taken, so a causal relationship between influenza and appendicitis can only be determined probabilistically using CI-tests.\n",
    "\n",
    "Problem: There are only two variables explicitly specified. \n",
    "\n",
    "* Acyclicity: Given in the text.\n",
    "* Causal independence: Satisfied\n",
    "* Markov faithfulness: It is a strict assumption.\n",
    "* Causal sufficiency: Perform linear regression analysis to understand so.\n",
    "\n",
    "Given A: Appendicitis, B: Influenza:\n",
    "* $p(A, B) = \\frac{3}{35}$\n",
    "* $p(\\neg A, B) = \\frac{15}{35}$\n",
    "* $p(A, \\neg B) = \\frac{7}{35}$\n",
    "* $p(\\neg A, \\neg B) = \\frac{10}{35}$"
   ]
  },
  {
   "attachments": {},
   "cell_type": "markdown",
   "metadata": {},
   "source": [
    "## 3\n",
    "\n",
    "Causal effect of a random variables X on a random variable Y: \n",
    "\n",
    "* $\\tau_{X \\to Y} = \\frac{\\partial}{\\partial x} E[Y | do(X = x)]$\n",
    "\n",
    "If there are no confounders or selection variables like the previous question, then the observational distribution has a complete informational power. Use regression analysis to infer the causal relationship between the noise of X and the variable Y.\n",
    "\n",
    "Adjustment sets: Only $\\{W_3\\}, \\{W_3, W_4\\}$\n",
    "\n",
    "If $W_4$ was latent, then $\\{W_3\\}$ would be a valid adjustment set.\n",
    "\n",
    "W is an instrumental variable, which can be used to understand the relationship between X and Y.\n",
    "\n",
    "* $\\tau_{W \\to X} = \\frac{\\partial}{\\partial w} E[X | do(W = w)]$ is the causal effect of W on X.\n",
    "* $\\tau_{W \\to Y} = \\frac{\\partial}{\\partial w} E[Y | do(W = w)]$ is the causal effect of W on Y.\n",
    "\n",
    "Then divide $\\tau_{W \\to Y}$ by $\\tau_{W \\to X}$ to get the coefficient $c$ in front of $X \\to Y$"
   ]
  },
  {
   "attachments": {},
   "cell_type": "markdown",
   "metadata": {},
   "source": [
    "## 4\n",
    "\n",
    "PCMCI+ algorithm makes use of the following extra assumptions:\n",
    "* Chronological order\n",
    "* No acyclicity\n",
    "* Repetition\n",
    "\n",
    "PCMCI+ has the following steps:\n",
    "1. PC-Algorithm to identify the closest causal parents of contemporaneous variables\n",
    "2. MCI+ to orient the edges in MAG and infer transitive relationships\n",
    "\n",
    "It might be necessary to use contemporaneous edges, because:\n",
    "* It is possible that a variable has an on-the-fly causal effect on another variable\n",
    "* Ignoring this possibility would make the model causally insufficient\n",
    "\n",
    "Two limitations:\n",
    "1. Granger causality doesn't allow contemporaneous edges"
   ]
  },
  {
   "attachments": {},
   "cell_type": "markdown",
   "metadata": {},
   "source": [
    "t"
   ]
  }
 ],
 "metadata": {
  "language_info": {
   "name": "python"
  },
  "orig_nbformat": 4
 },
 "nbformat": 4,
 "nbformat_minor": 2
}
