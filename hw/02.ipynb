{
 "cells": [
  {
   "cell_type": "markdown",
   "metadata": {},
   "source": [
    "Ex. 1:\n",
    "\n",
    "$P(A | B) = \\frac{P(B | A) * P(A)}{P(B | A)P(A) + P(B | A^c)P(A^c)}$\n",
    "\n",
    "Given: $P(A) = 10^{-8} \\implies P(A^c) = 1 - 10^{-8}, P(B | A^c) = 10^{-3}, P(B | A) = 0.99 \\implies P(A | B) = \\frac{0.99 * 10^{-8}}{0.99 * 10^{-8} + (1 - 10^{-8}) * 10^{-3}} \\approx 10^{-5}$"
   ]
  },
  {
   "cell_type": "markdown",
   "metadata": {},
   "source": [
    "Ex. 2:\n",
    "\n",
    "$l(X; Y | Z) = \\int p(z) \\int \\int p(x, y | z) \\log \\frac{p(x, y | z)}{p(x | z) p(y | z)} dx dy dz$\n",
    "\n",
    "$D_{KL}(Q_1 || Q_2) = \\int q_1(x) \\log \\frac{Q_1(x)}{Q_2(x)} dx$"
   ]
  },
  {
   "cell_type": "markdown",
   "metadata": {},
   "source": []
  }
 ],
 "metadata": {
  "language_info": {
   "name": "python"
  }
 },
 "nbformat": 4,
 "nbformat_minor": 2
}
