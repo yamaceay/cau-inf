{
 "cells": [
  {
   "cell_type": "markdown",
   "metadata": {},
   "source": [
    "Ex. 1:\n",
    "\n",
    "Known: \n",
    "\n",
    "* $P(A | B) = \\frac{P(B | A) * P(A)}{P(B | A)P(A) + P(B | A^c)P(A^c)}$\n",
    "\n",
    "Solution: $P(A) = 10^{-7} \\implies P(A^c) = 1 - 10^{-7}, P(B | A^c) = 10^{-3}, P(B | A) = 0.99 \\implies P(A | B) = \\frac{0.99 * 10^{-7}}{0.99 * 10^{-7} + (1 - 10^{-7}) * 10^{-3}} \\approx 10^{-4}$"
   ]
  },
  {
   "cell_type": "markdown",
   "metadata": {},
   "source": [
    "Ex. 2:\n",
    "\n",
    "Known: \n",
    "\n",
    "* $l(X; Y | Z) = \\int p(z) \\int \\int p(x, y | z) \\log \\frac{p(x, y | z)}{p(x | z) p(y | z)} dx dy dz$\n",
    "\n",
    "* $D_{KL}(Q_1 || Q_2) = \\int q_1(x) \\log \\frac{q_1(x)}{q_2(x)} dx$\n",
    "\n",
    "Solution:\n",
    "\n",
    "1. $l(X; Y | Z) = \\int p(z) \\int \\int p(x, y | z) \\log \\frac{p(x, y | z)}{p(x | z) p(y | z)} dx dy dz = \\int D_{KL}(P_{X, Y | z} || P_{X | z} P_{Y | z}) p(z) dz = \\Bbb{E}_Z[P_{X, Y | Z} || P_{X | Z} P_{Y | Z}]$. \n",
    "\n",
    "In other words, the conditional mutual information measures the expected KL-divergence between the conditional distribution $P_{X, Y | z}$ and the distribution that $X, Y$ would have (conditional on Z) if $X \\perp\\!\\!\\!\\perp Y | Z$ would hold.\n",
    "\n",
    "2. Use the chain rule to derive: $l(X; Y) + l(X; Z | Y) = l(X; Z) + l(X; Y | Z)$. Given that $X \\perp\\!\\!\\!\\perp Z | Y$, it holds true: $l(X; Z | Y) = 0$. CMI is always non-negative, so $l(X; Y) = l(X; Z) + l(X; Y | Z) \\ge l(X; Z)$\n",
    "\n",
    "3. See following derivation steps:\n",
    "\n",
    "    * $l(X; Z) = \\int_{x, y, z} p(x, z) \\log \\frac{p(x, z)}{p(x)p(z)} d(x, z) = \\int_{x, y, z} p(x, y, z) \\log \\frac{p(x, z)}{p(x)p(z)} d(x, y, z)$\n",
    "\n",
    "    * $l(X; Y | Z) = \\int_{x, y, z} p(z) p(x, y | z) \\log \\frac{p(x, y | z)}{p(x | z)p(y | z)} d(x, y, z) = \\int_{x, y, z} p(x, y, z) \\log \\frac{p(x, y | z)}{p(x | z)p(y | z)} d(x, y, z)$\n",
    "\n",
    "    * $l(X; Z) + l(X; Y | Z) = \\int_{x, y, z} p(x, y, z) (\\log \\frac{p(x, z)}{p(x)p(z)} + \\log \\frac{p(x, y | z)}{p(x | z)p(y | z)}) d(x, y, z) = \\int_{x, y, z} p(x, y, z) \\log (\\frac{p(x, z)}{p(x)p(z)} \\frac{p(x, y | z)}{p(x | z)p(y | z)}) d(x, y, z) = \\int_{x, y, z} p(x, y, z) \\log (\\frac{p(x, y | z)}{p(x)p(y | z)}) d(x, y, z) = \\int_{x, y, z} p(x, y, z) \\log (\\frac{p(x, y, z)}{p(x)p(y, z)}) d(x, y, z) = l(X; (Y, Z))$ "
   ]
  }
 ],
 "metadata": {
  "language_info": {
   "name": "python"
  }
 },
 "nbformat": 4,
 "nbformat_minor": 2
}
